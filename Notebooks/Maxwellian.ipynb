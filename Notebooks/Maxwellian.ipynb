{
 "cells": [
  {
   "cell_type": "markdown",
   "id": "ed6cd771",
   "metadata": {},
   "source": [
    "Maxwellian shaped particle precipitation differential number flux"
   ]
  },
  {
   "cell_type": "code",
   "execution_count": null,
   "id": "9601c827",
   "metadata": {},
   "outputs": [],
   "source": [
    "import ncarglow as glow\n",
    "import ncarglow.plots as plot\n",
    "from datetime import datetime\n",
    "\n",
    "\n",
    "time = datetime(2015, 12, 13, 10, 0, 0)\n",
    "glat = 65.1\n",
    "glon = -147.5\n",
    "# %% flux [erg cm-2 s-1 == mW m-2 s-1]\n",
    "Q = 1\n",
    "# %% characteristic energy [eV]\n",
    "Echar = 100e3\n",
    "# %% Number of energy bins\n",
    "Nbins = 250"
   ]
  },
  {
   "cell_type": "code",
   "execution_count": null,
   "id": "a686dadb",
   "metadata": {},
   "outputs": [],
   "source": [
    "iono = glow.maxwellian(time, glat, glon, Q, Echar, Nbins)\n",
    "# %% plots\n",
    "plot.precip(iono[\"precip\"])\n",
    "plot.ver(iono)\n",
    "plot.density(iono)\n",
    "plot.temperature(iono)"
   ]
  },
  {
   "cell_type": "code",
   "execution_count": null,
   "id": "978245af",
   "metadata": {},
   "outputs": [],
   "source": []
  }
 ],
 "metadata": {
  "kernelspec": {
   "display_name": "Python 3",
   "language": "python",
   "name": "python3"
  },
  "language_info": {
   "codemirror_mode": {
    "name": "ipython",
    "version": 3
   },
   "file_extension": ".py",
   "mimetype": "text/x-python",
   "name": "python",
   "nbconvert_exporter": "python",
   "pygments_lexer": "ipython3",
   "version": "3.9.5"
  }
 },
 "nbformat": 4,
 "nbformat_minor": 5
}
